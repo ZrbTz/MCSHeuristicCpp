{
 "cells": [
  {
   "cell_type": "code",
   "execution_count": 1,
   "metadata": {},
   "outputs": [
    {
     "name": "stdout",
     "output_type": "stream",
     "text": [
      "Name: mcs10_b03_s4000 , vertex_labeled: False , directed: False , connected: False , edge_labeled: False , timeout: 0.0 , heuristic: classic\n",
      "Recursions Time:  11.286406517028809\n",
      "#Recursions:  117353948\n",
      "\n",
      "Milestones\n",
      "1 obtained with  2 recursions\n",
      "2 obtained with  3 recursions\n",
      "3 obtained with  4 recursions\n",
      "4 obtained with  5 recursions\n",
      "5 obtained with  6 recursions\n",
      "6 obtained with  7 recursions\n",
      "7 obtained with  8 recursions\n",
      "8 obtained with  9 recursions\n",
      "9 obtained with  10 recursions\n",
      "10 obtained with  11 recursions\n",
      "11 obtained with  12 recursions\n",
      "12 obtained with  13 recursions\n",
      "13 obtained with  14 recursions\n",
      "14 obtained with  15 recursions\n",
      "15 obtained with  16 recursions\n",
      "16 obtained with  17 recursions\n",
      "17 obtained with  18 recursions\n",
      "18 obtained with  19 recursions\n",
      "19 obtained with  20 recursions\n",
      "20 obtained with  21 recursions\n",
      "21 obtained with  22 recursions\n",
      "22 obtained with  23 recursions\n",
      "23 obtained with  24 recursions\n",
      "24 obtained with  25 recursions\n",
      "25 obtained with  116 recursions\n",
      "26 obtained with  13956 recursions\n",
      "27 obtained with  21105 recursions\n",
      "28 obtained with  34355 recursions\n",
      "29 obtained with  243563 recursions\n",
      "30 obtained with  295545 recursions\n",
      "31 obtained with  14797705 recursions\n",
      "\n",
      "Solution [1, 17] [27, 16] [6, 0] [12, 10] [26, 32] [14, 33] [15, 7] [16, 38] [35, 36] [10, 39] [3, 24] [30, 26] [9, 3] [25, 12] [33, 2] [32, 15] [36, 22] [4, 28] [34, 1] [24, 14] [7, 19] [22, 11] [0, 29] [5, 34] [19, 35] [11, 25] [2, 4] [20, 6] [37, 20] [18, 21] [28, 37]\n"
     ]
    }
   ],
   "source": [
    "import test_utility\n",
    "\n",
    "tt = test_utility.load_test(\"/home/tom/tesi/MCSHeuristicCpp/test_results/mcs10_b03_s4000.json\")\n",
    "tt.to_string()"
   ]
  }
 ],
 "metadata": {
  "interpreter": {
   "hash": "f9f85f796d01129d0dd105a088854619f454435301f6ffec2fea96ecbd9be4ac"
  },
  "kernelspec": {
   "display_name": "Python 3.9.7 64-bit",
   "language": "python",
   "name": "python3"
  },
  "language_info": {
   "codemirror_mode": {
    "name": "ipython",
    "version": 3
   },
   "file_extension": ".py",
   "mimetype": "text/x-python",
   "name": "python",
   "nbconvert_exporter": "python",
   "pygments_lexer": "ipython3",
   "version": "3.9.7"
  },
  "orig_nbformat": 4
 },
 "nbformat": 4,
 "nbformat_minor": 2
}
